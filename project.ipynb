{
 "metadata": {
  "language_info": {
   "codemirror_mode": {
    "name": "ipython",
    "version": 3
   },
   "file_extension": ".py",
   "mimetype": "text/x-python",
   "name": "python",
   "nbconvert_exporter": "python",
   "pygments_lexer": "ipython3",
   "version": "3.6.13"
  },
  "orig_nbformat": 2,
  "kernelspec": {
   "name": "python3613jvsc74a57bd0d44bcf2fe5305ee3a0aa6e621204dfdfb31a2c34ae7c39090a68f24a91910965",
   "display_name": "Python 3.6.13 64-bit ('BD': conda)"
  }
 },
 "nbformat": 4,
 "nbformat_minor": 2,
 "cells": [
  {
   "source": [
    "# Jungnangcheon river\n",
    "### We will study how precipitation, solar radiation, air preassure or Temperatures have effect on the river biochemical oxygen demand (BOD)."
   ],
   "cell_type": "markdown",
   "metadata": {}
  },
  {
   "cell_type": "code",
   "execution_count": null,
   "metadata": {},
   "outputs": [],
   "source": [
    "import pandas as pd\n",
    "import numpy as np\n",
    "import matplotlib.pyplot as plt"
   ]
  },
  {
   "source": [
    "## Read Data"
   ],
   "cell_type": "markdown",
   "metadata": {}
  },
  {
   "cell_type": "code",
   "execution_count": 76,
   "metadata": {},
   "outputs": [
    {
     "output_type": "execute_result",
     "data": {
      "text/plain": [
       "       BOD(mg/L)  Temperature (°C)  Precipitation (mm)  Air Pressure (hPa)  \\\n",
       "count  76.000000         76.000000           76.000000           76.000000   \n",
       "mean    4.065789         15.797368            3.822368         1004.950000   \n",
       "std     2.345296          8.732468           14.665848            8.580295   \n",
       "min     1.400000         -4.400000            0.000000          987.300000   \n",
       "25%     2.475000          9.125000            0.000000          998.325000   \n",
       "50%     3.500000         17.100000            0.000000         1004.150000   \n",
       "75%     5.400000         23.000000            0.000000         1011.575000   \n",
       "max    12.000000         30.400000          103.100000         1025.300000   \n",
       "\n",
       "       Solar Radiation (MJ/m2)  \n",
       "count                76.000000  \n",
       "mean                 16.073026  \n",
       "std                   6.981285  \n",
       "min                   2.720000  \n",
       "25%                  11.175000  \n",
       "50%                  15.865000  \n",
       "75%                  21.570000  \n",
       "max                  27.470000  "
      ],
      "text/html": "<div>\n<style scoped>\n    .dataframe tbody tr th:only-of-type {\n        vertical-align: middle;\n    }\n\n    .dataframe tbody tr th {\n        vertical-align: top;\n    }\n\n    .dataframe thead th {\n        text-align: right;\n    }\n</style>\n<table border=\"1\" class=\"dataframe\">\n  <thead>\n    <tr style=\"text-align: right;\">\n      <th></th>\n      <th>BOD(mg/L)</th>\n      <th>Temperature (°C)</th>\n      <th>Precipitation (mm)</th>\n      <th>Air Pressure (hPa)</th>\n      <th>Solar Radiation (MJ/m2)</th>\n    </tr>\n  </thead>\n  <tbody>\n    <tr>\n      <th>count</th>\n      <td>76.000000</td>\n      <td>76.000000</td>\n      <td>76.000000</td>\n      <td>76.000000</td>\n      <td>76.000000</td>\n    </tr>\n    <tr>\n      <th>mean</th>\n      <td>4.065789</td>\n      <td>15.797368</td>\n      <td>3.822368</td>\n      <td>1004.950000</td>\n      <td>16.073026</td>\n    </tr>\n    <tr>\n      <th>std</th>\n      <td>2.345296</td>\n      <td>8.732468</td>\n      <td>14.665848</td>\n      <td>8.580295</td>\n      <td>6.981285</td>\n    </tr>\n    <tr>\n      <th>min</th>\n      <td>1.400000</td>\n      <td>-4.400000</td>\n      <td>0.000000</td>\n      <td>987.300000</td>\n      <td>2.720000</td>\n    </tr>\n    <tr>\n      <th>25%</th>\n      <td>2.475000</td>\n      <td>9.125000</td>\n      <td>0.000000</td>\n      <td>998.325000</td>\n      <td>11.175000</td>\n    </tr>\n    <tr>\n      <th>50%</th>\n      <td>3.500000</td>\n      <td>17.100000</td>\n      <td>0.000000</td>\n      <td>1004.150000</td>\n      <td>15.865000</td>\n    </tr>\n    <tr>\n      <th>75%</th>\n      <td>5.400000</td>\n      <td>23.000000</td>\n      <td>0.000000</td>\n      <td>1011.575000</td>\n      <td>21.570000</td>\n    </tr>\n    <tr>\n      <th>max</th>\n      <td>12.000000</td>\n      <td>30.400000</td>\n      <td>103.100000</td>\n      <td>1025.300000</td>\n      <td>27.470000</td>\n    </tr>\n  </tbody>\n</table>\n</div>"
     },
     "metadata": {},
     "execution_count": 76
    }
   ],
   "source": [
    "jungnangcheon_df = pd.read_excel('./readonly/Data.xlsx')\n",
    "date = jungnangcheon_df['Date']\n",
    "y    = jungnangcheon_df['BOD(mg/L)']\n",
    "X    = jungnangcheon_df[['Temperature (°C)', 'Precipitation (mm)', 'Air Pressure (hPa)', 'Solar Radiation (MJ/m2)']]\n",
    "# print(jungnangcheon_df.isna().sum())\n",
    "# print(jungnangcheon_df.keys())\n",
    "jungnangcheon_df.describe()"
   ]
  },
  {
   "source": [
    "## Plot correlations"
   ],
   "cell_type": "markdown",
   "metadata": {}
  },
  {
   "cell_type": "code",
   "execution_count": null,
   "metadata": {},
   "outputs": [],
   "source": [
    "\n",
    "feature_name = list(X.keys())\n",
    "print(feature_name)\n",
    "\n",
    "fig = plt.figure(figsize=(9,4))\n",
    "for i in range(0, len(feature_name)):\n",
    "    ax = fig.add_subplot(2, 2, i+1)\n",
    "    plt.scatter(jungnangcheon_df[feature_name[i]], jungnangcheon_df['BOD(mg/L)'], color='grey')\n",
    "    plt.xlabel(feature_name[i], size=14, weight='bold')\n",
    "    plt.ylabel('BOD (mg/L)', size=8, weight='bold')\n",
    "    plt.tight_layout()\n",
    "plt.show()\n",
    "for feature in feature_name:\n",
    "    print('Correlation coeff (BOD and ', feature, ' = ', np.corrcoef(jungnangcheon_df[feature], jungnangcheon_df['BOD(mg/L)'])[1][0].round(2))\n"
   ]
  },
  {
   "source": [
    "#### As we can see here, input variables are not strongly correlated with BOD, only Air preassure has a weak correlation."
   ],
   "cell_type": "markdown",
   "metadata": {}
  },
  {
   "source": [
    "## Linear Regression model\n",
    "#### This will be our first and simplest model"
   ],
   "cell_type": "markdown",
   "metadata": {}
  },
  {
   "cell_type": "code",
   "execution_count": null,
   "metadata": {},
   "outputs": [],
   "source": [
    "from sklearn.model_selection import train_test_split\n",
    "from sklearn.linear_model import LinearRegression\n",
    "from sklearn.metrics import mean_squared_error\n",
    "from sklearn.metrics import r2_score\n",
    "\n",
    "# Build the model\n",
    "X_train, X_test, y_train, y_test = train_test_split(X, y,test_size=0.3, random_state=101)\n",
    "linreg = LinearRegression()\n",
    "linreg.fit(X_train, y_train)\n",
    "\n",
    "# Evaluate the performance\n",
    "y_m_predict = linreg.predict(X_test)\n",
    "m_rmse = round((np.sqrt(mean_squared_error(y_test, y_m_predict))), 2)\n",
    "m_r2 = round(r2_score(y_test, y_m_predict), 2)\n",
    "print('M_RMSE: ', m_rmse, '\\nM_R2: ', m_r2)\n",
    "\n",
    "# Plot the predictions\n",
    "plt.scatter(y_test, y_m_predict)\n",
    "plt.xlabel('True BOD', size=14, weight='bold')\n",
    "plt.ylabel('Predicted BOD', size=14, weight='bold')\n",
    "plt.show()"
   ]
  },
  {
   "source": [
    "## Decision Tree\n",
    "#### Decision tree is a simple but powerful and easy to interpretate Machine learning algorithm. We will see the behaviour and decision making."
   ],
   "cell_type": "markdown",
   "metadata": {}
  },
  {
   "cell_type": "code",
   "execution_count": null,
   "metadata": {},
   "outputs": [],
   "source": [
    "from sklearn.tree import DecisionTreeRegressor\n",
    "from adspy_shared_utilities import plot_decision_tree\n",
    "from adspy_shared_utilities import plot_feature_importances\n",
    "# %conda install graphviz\n",
    "\n",
    "tree = DecisionTreeRegressor(random_state=0, max_depth = 3).fit(X_train, y_train) # Add max depth to reduce overfitting\n",
    "print('Accuracy of Decision Tree classifier on training set: {:.2f}'\n",
    "     .format(tree.score(X_train, y_train)))\n",
    "print('Accuracy of Decision Tree classifier on test set: {:.2f}'\n",
    "     .format(tree.score(X_test, y_test)))\n",
    "\n",
    "plot_decision_tree(tree, X.keys(), y.keys())"
   ]
  },
  {
   "source": [
    "#### The decision tree model is too overfitted as we can see here. We could set max_depth=1 but it would only take Precipitation value to make the predictions.\n",
    "#### This are the most used parameters:"
   ],
   "cell_type": "markdown",
   "metadata": {}
  },
  {
   "cell_type": "code",
   "execution_count": null,
   "metadata": {},
   "outputs": [],
   "source": [
    "plt.figure(figsize=(10,4), dpi=80)\n",
    "plot_feature_importances(tree, X.keys())\n",
    "\n",
    "print('Feature importances: {}'.format(tree.feature_importances_))"
   ]
  },
  {
   "source": [
    "# Random Forest\n",
    "#### Takes multiple individual learning tree models and combines them to produce more powerful aggregate model."
   ],
   "cell_type": "markdown",
   "metadata": {}
  },
  {
   "cell_type": "code",
   "execution_count": 87,
   "metadata": {},
   "outputs": [
    {
     "output_type": "stream",
     "name": "stdout",
     "text": [
      "Mean Absolute Error: 1.2251 degrees.\n"
     ]
    }
   ],
   "source": [
    "from sklearn.ensemble import RandomForestRegressor\r\n",
    "from sklearn.datasets import make_regression\r\n",
    "\r\n",
    "forest = RandomForestRegressor(n_estimators=100, max_features=2, random_state=0).fit(X_train, y_train)\r\n",
    "\r\n",
    "# Use the forest's predict method on the test data\r\n",
    "y_predict = forest.predict(X_test) \r\n",
    "# Calculate the absolute errors\r\n",
    "errors = abs(y_predict - y_test)\r\n",
    "# print(list(zip(y_predict, y_test)))\r\n",
    "# Print out the mean absolute error. Mean distance between predited and real values (MAE)\r\n",
    "print('Mean Absolute Error:', round(np.mean(errors), 4), 'degrees.')"
   ]
  }
 ]
}